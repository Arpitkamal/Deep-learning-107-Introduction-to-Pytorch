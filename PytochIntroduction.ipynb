{
  "nbformat": 4,
  "nbformat_minor": 0,
  "metadata": {
    "colab": {
      "name": "PytochIntroduction.ipynb",
      "provenance": [],
      "authorship_tag": "ABX9TyMRHQjK84wYzeJ2xlqgPAqe",
      "include_colab_link": true
    },
    "kernelspec": {
      "name": "python3",
      "display_name": "Python 3"
    },
    "accelerator": "GPU"
  },
  "cells": [
    {
      "cell_type": "markdown",
      "metadata": {
        "id": "view-in-github",
        "colab_type": "text"
      },
      "source": [
        "<a href=\"https://colab.research.google.com/github/Arpitkamal/Deep-learning-107-Introduction-to-Pytorch/blob/master/PytochIntroduction.ipynb\" target=\"_parent\"><img src=\"https://colab.research.google.com/assets/colab-badge.svg\" alt=\"Open In Colab\"/></a>"
      ]
    },
    {
      "cell_type": "markdown",
      "metadata": {
        "id": "YmiA6K-KsU84",
        "colab_type": "text"
      },
      "source": [
        "Outline\n",
        "\n",
        "\n",
        "1.   PyTorch\n",
        "2.   What are tensors\n",
        "3.   Initialisation, slicing, reshaping tensors\n",
        "4.   Numpy and PyTorch interfacing\n",
        "5.   GPU support for PyTorch + Enabling GPUs on Google Colab\n",
        "6.   Speed comparisons, Numpy -- PyTorch -- PyTorch on GPU\n",
        "7.   Autograd concepts and application\n",
        "8.   Writing a basic learning loop using utograd\n",
        "\n",
        "\n"
      ]
    },
    {
      "cell_type": "code",
      "metadata": {
        "id": "n2psvuYxsIuA",
        "colab_type": "code",
        "colab": {}
      },
      "source": [
        "import torch\n",
        "import numpy as np\n",
        "import matplotlib.pyplot as plt"
      ],
      "execution_count": 0,
      "outputs": []
    },
    {
      "cell_type": "markdown",
      "metadata": {
        "id": "yAHInd3oz8gB",
        "colab_type": "text"
      },
      "source": [
        "# Initialise tensors"
      ]
    },
    {
      "cell_type": "code",
      "metadata": {
        "id": "7aRUUiU3tXNH",
        "colab_type": "code",
        "outputId": "67a0fcd0-92ee-48a7-9369-1b967b3a2219",
        "colab": {
          "base_uri": "https://localhost:8080/",
          "height": 170
        }
      },
      "source": [
        "x = torch.ones(3, 2)\n",
        "print(x)\n",
        "x = torch.zeros(3, 2)\n",
        "print(x)\n",
        "x = torch.rand(3, 2)\n",
        "print(x)"
      ],
      "execution_count": 0,
      "outputs": [
        {
          "output_type": "stream",
          "text": [
            "tensor([[1., 1.],\n",
            "        [1., 1.],\n",
            "        [1., 1.]])\n",
            "tensor([[0., 0.],\n",
            "        [0., 0.],\n",
            "        [0., 0.]])\n",
            "tensor([[0.1177, 0.4077],\n",
            "        [0.9510, 0.5064],\n",
            "        [0.5405, 0.3287]])\n"
          ],
          "name": "stdout"
        }
      ]
    },
    {
      "cell_type": "code",
      "metadata": {
        "id": "x4qWANXq0Qaa",
        "colab_type": "code",
        "outputId": "8719d4f2-a15a-4594-d7ba-9b142e254e33",
        "colab": {
          "base_uri": "https://localhost:8080/",
          "height": 119
        }
      },
      "source": [
        "x = torch.empty(3, 2)\n",
        "print(x)\n",
        "y = torch.zeros_like(x)\n",
        "print(y)"
      ],
      "execution_count": 0,
      "outputs": [
        {
          "output_type": "stream",
          "text": [
            "tensor([[9.4965e-36, 0.0000e+00],\n",
            "        [3.3631e-44, 0.0000e+00],\n",
            "        [       nan, 0.0000e+00]])\n",
            "tensor([[0., 0.],\n",
            "        [0., 0.],\n",
            "        [0., 0.]])\n"
          ],
          "name": "stdout"
        }
      ]
    },
    {
      "cell_type": "code",
      "metadata": {
        "id": "tKvbpy4Y0lTo",
        "colab_type": "code",
        "outputId": "76c83b90-ddad-4623-e50f-dd26fa023191",
        "colab": {
          "base_uri": "https://localhost:8080/",
          "height": 34
        }
      },
      "source": [
        "x = torch.linspace(0, 1, steps=5)\n",
        "print(x)"
      ],
      "execution_count": 0,
      "outputs": [
        {
          "output_type": "stream",
          "text": [
            "tensor([0.0000, 0.2500, 0.5000, 0.7500, 1.0000])\n"
          ],
          "name": "stdout"
        }
      ]
    },
    {
      "cell_type": "code",
      "metadata": {
        "id": "j6lpejFx01_f",
        "colab_type": "code",
        "outputId": "7e46b0fa-3b92-464c-f4ee-4288a2da0a19",
        "colab": {
          "base_uri": "https://localhost:8080/",
          "height": 68
        }
      },
      "source": [
        "x = torch.tensor([[1, 2],\n",
        "                  [3, 4],\n",
        "                  [5, 6]])\n",
        "print(x)"
      ],
      "execution_count": 0,
      "outputs": [
        {
          "output_type": "stream",
          "text": [
            "tensor([[1, 2],\n",
            "        [3, 4],\n",
            "        [5, 6]])\n"
          ],
          "name": "stdout"
        }
      ]
    },
    {
      "cell_type": "markdown",
      "metadata": {
        "id": "4lxwyBo81beN",
        "colab_type": "text"
      },
      "source": [
        "# Slicing tensors"
      ]
    },
    {
      "cell_type": "code",
      "metadata": {
        "id": "aJhOAbMk0_1O",
        "colab_type": "code",
        "outputId": "ab8d3778-1ae6-4dce-a8b0-2db498a9acf7",
        "colab": {
          "base_uri": "https://localhost:8080/",
          "height": 68
        }
      },
      "source": [
        "print(x.size())\n",
        "print(x[:, 0])\n",
        "print(x[0, :])"
      ],
      "execution_count": 0,
      "outputs": [
        {
          "output_type": "stream",
          "text": [
            "torch.Size([3, 2])\n",
            "tensor([1, 3, 5])\n",
            "tensor([1, 2])\n"
          ],
          "name": "stdout"
        }
      ]
    },
    {
      "cell_type": "code",
      "metadata": {
        "id": "5GJYSNWx1lH0",
        "colab_type": "code",
        "outputId": "111bce64-5e9e-44ba-b495-f9169dda4c30",
        "colab": {
          "base_uri": "https://localhost:8080/",
          "height": 51
        }
      },
      "source": [
        "y = x[1, 0]\n",
        "print(y)\n",
        "print(y.item())"
      ],
      "execution_count": 0,
      "outputs": [
        {
          "output_type": "stream",
          "text": [
            "tensor(3)\n",
            "3\n"
          ],
          "name": "stdout"
        }
      ]
    },
    {
      "cell_type": "markdown",
      "metadata": {
        "id": "AlMbEKls2NDK",
        "colab_type": "text"
      },
      "source": [
        "# Reshaping tensors"
      ]
    },
    {
      "cell_type": "code",
      "metadata": {
        "id": "LXuCk3o02A5N",
        "colab_type": "code",
        "outputId": "4ac08590-38b9-4cc6-b34b-0c4fb796e3b5",
        "colab": {
          "base_uri": "https://localhost:8080/",
          "height": 102
        }
      },
      "source": [
        "print(x)\n",
        "y = x.view(2, 3)\n",
        "print(y)"
      ],
      "execution_count": 0,
      "outputs": [
        {
          "output_type": "stream",
          "text": [
            "tensor([[1, 2],\n",
            "        [3, 4],\n",
            "        [5, 6]])\n",
            "tensor([[1, 2, 3],\n",
            "        [4, 5, 6]])\n"
          ],
          "name": "stdout"
        }
      ]
    },
    {
      "cell_type": "code",
      "metadata": {
        "id": "oK9lAKOI2WTm",
        "colab_type": "code",
        "outputId": "9ac439a0-a3a3-4531-fe1b-3d19486d16d1",
        "colab": {
          "base_uri": "https://localhost:8080/",
          "height": 119
        }
      },
      "source": [
        "y = x.view(6, -1)\n",
        "print(y)"
      ],
      "execution_count": 0,
      "outputs": [
        {
          "output_type": "stream",
          "text": [
            "tensor([[1],\n",
            "        [2],\n",
            "        [3],\n",
            "        [4],\n",
            "        [5],\n",
            "        [6]])\n"
          ],
          "name": "stdout"
        }
      ]
    },
    {
      "cell_type": "markdown",
      "metadata": {
        "id": "OyrBUhHZ2td4",
        "colab_type": "text"
      },
      "source": [
        "# Simple Tensor Operations\n"
      ]
    },
    {
      "cell_type": "code",
      "metadata": {
        "id": "qikIiWZY2rg7",
        "colab_type": "code",
        "outputId": "45d111c6-79d9-4c51-992c-9bb2ba58bba5",
        "colab": {
          "base_uri": "https://localhost:8080/",
          "height": 170
        }
      },
      "source": [
        "x = torch.ones([3, 2])\n",
        "y = torch.ones([3, 2])\n",
        "z = x + y\n",
        "print(z)\n",
        "z = x - y\n",
        "print(z)\n",
        "z = x * y\n",
        "print(z)"
      ],
      "execution_count": 0,
      "outputs": [
        {
          "output_type": "stream",
          "text": [
            "tensor([[2., 2.],\n",
            "        [2., 2.],\n",
            "        [2., 2.]])\n",
            "tensor([[0., 0.],\n",
            "        [0., 0.],\n",
            "        [0., 0.]])\n",
            "tensor([[1., 1.],\n",
            "        [1., 1.],\n",
            "        [1., 1.]])\n"
          ],
          "name": "stdout"
        }
      ]
    },
    {
      "cell_type": "code",
      "metadata": {
        "id": "xJwYrLqT3Y4O",
        "colab_type": "code",
        "outputId": "91464cca-0472-4f60-b095-172a880c432d",
        "colab": {
          "base_uri": "https://localhost:8080/",
          "height": 119
        }
      },
      "source": [
        "z = y.add(x)\n",
        "print(z)\n",
        "print(y)"
      ],
      "execution_count": 0,
      "outputs": [
        {
          "output_type": "stream",
          "text": [
            "tensor([[2., 2.],\n",
            "        [2., 2.],\n",
            "        [2., 2.]])\n",
            "tensor([[1., 1.],\n",
            "        [1., 1.],\n",
            "        [1., 1.]])\n"
          ],
          "name": "stdout"
        }
      ]
    },
    {
      "cell_type": "code",
      "metadata": {
        "id": "M4iIsLql3rgn",
        "colab_type": "code",
        "outputId": "a9688628-2bf0-45dd-923c-ab170a3e0718",
        "colab": {
          "base_uri": "https://localhost:8080/",
          "height": 119
        }
      },
      "source": [
        "z = y.add_(x)\n",
        "print(z)\n",
        "print(y)"
      ],
      "execution_count": 0,
      "outputs": [
        {
          "output_type": "stream",
          "text": [
            "tensor([[2., 2.],\n",
            "        [2., 2.],\n",
            "        [2., 2.]])\n",
            "tensor([[2., 2.],\n",
            "        [2., 2.],\n",
            "        [2., 2.]])\n"
          ],
          "name": "stdout"
        }
      ]
    },
    {
      "cell_type": "markdown",
      "metadata": {
        "id": "8efXPork3wTQ",
        "colab_type": "text"
      },
      "source": [
        "# Numpy <> PyTorch"
      ]
    },
    {
      "cell_type": "code",
      "metadata": {
        "id": "J2MARxxd3uMS",
        "colab_type": "code",
        "outputId": "c1fc188f-6ca7-43b3-b8f5-5528171928d3",
        "colab": {
          "base_uri": "https://localhost:8080/",
          "height": 85
        }
      },
      "source": [
        "x_np = x.numpy()\n",
        "print(type(x), type(x_np))\n",
        "print(x_np)"
      ],
      "execution_count": 0,
      "outputs": [
        {
          "output_type": "stream",
          "text": [
            "<class 'torch.Tensor'> <class 'numpy.ndarray'>\n",
            "[[1. 1.]\n",
            " [1. 1.]\n",
            " [1. 1.]]\n"
          ],
          "name": "stdout"
        }
      ]
    },
    {
      "cell_type": "code",
      "metadata": {
        "id": "t8EEbtCn9Qk6",
        "colab_type": "code",
        "outputId": "046313a4-6d0c-413f-bedb-8fd352a087f4",
        "colab": {
          "base_uri": "https://localhost:8080/",
          "height": 68
        }
      },
      "source": [
        "a = np.random.randn(5)\n",
        "print(a)\n",
        "a_pt = torch.from_numpy(a)\n",
        "print(type(a), type(a_pt))\n",
        "print(a_pt)"
      ],
      "execution_count": 0,
      "outputs": [
        {
          "output_type": "stream",
          "text": [
            "[-1.02886155  1.41561835 -0.69787448 -1.69084527  2.60505143]\n",
            "<class 'numpy.ndarray'> <class 'torch.Tensor'>\n",
            "tensor([-1.0289,  1.4156, -0.6979, -1.6908,  2.6051], dtype=torch.float64)\n"
          ],
          "name": "stdout"
        }
      ]
    },
    {
      "cell_type": "code",
      "metadata": {
        "id": "vqeKsTrN9fv_",
        "colab_type": "code",
        "outputId": "9aa3419a-76c7-4fb8-9a32-e2a2f45dc6e6",
        "colab": {
          "base_uri": "https://localhost:8080/",
          "height": 51
        }
      },
      "source": [
        "np.add(a, 1, out=a)\n",
        "print(a)\n",
        "print(a_pt)"
      ],
      "execution_count": 0,
      "outputs": [
        {
          "output_type": "stream",
          "text": [
            "[-0.02886155  2.41561835  0.30212552 -0.69084527  3.60505143]\n",
            "tensor([-0.0289,  2.4156,  0.3021, -0.6908,  3.6051], dtype=torch.float64)\n"
          ],
          "name": "stdout"
        }
      ]
    },
    {
      "cell_type": "code",
      "metadata": {
        "id": "8j1ognUr-E9v",
        "colab_type": "code",
        "outputId": "061d47b2-9bc3-4f41-8d97-544c5c78c6e6",
        "colab": {
          "base_uri": "https://localhost:8080/",
          "height": 51
        }
      },
      "source": [
        "%%time\n",
        "for i in range(100):\n",
        "  a = np.random.randn(100,100)\n",
        "  b = np.random.randn(100,100)\n",
        "  c = np.matmul(a, b)"
      ],
      "execution_count": 0,
      "outputs": [
        {
          "output_type": "stream",
          "text": [
            "CPU times: user 156 ms, sys: 124 ms, total: 279 ms\n",
            "Wall time: 158 ms\n"
          ],
          "name": "stdout"
        }
      ]
    },
    {
      "cell_type": "code",
      "metadata": {
        "id": "bLRfNI7I-eCM",
        "colab_type": "code",
        "outputId": "83c5a957-138f-4022-e92d-a6bf32eff2c3",
        "colab": {
          "base_uri": "https://localhost:8080/",
          "height": 51
        }
      },
      "source": [
        "%%time\n",
        "for i in range(100):\n",
        "  a = torch.randn(100,100)\n",
        "  b = torch.randn(100,100)\n",
        "  c = torch.matmul(a, b)"
      ],
      "execution_count": 0,
      "outputs": [
        {
          "output_type": "stream",
          "text": [
            "CPU times: user 66.9 ms, sys: 88.1 ms, total: 155 ms\n",
            "Wall time: 105 ms\n"
          ],
          "name": "stdout"
        }
      ]
    },
    {
      "cell_type": "code",
      "metadata": {
        "id": "hwK9wO_D-kuc",
        "colab_type": "code",
        "outputId": "45955782-8bd0-4d70-895a-ce09f2a0f7a5",
        "colab": {
          "base_uri": "https://localhost:8080/",
          "height": 51
        }
      },
      "source": [
        "%%time\n",
        "for i in range(10):\n",
        "  a = np.random.randn(10000,10000)\n",
        "  b = np.random.randn(10000,10000)\n",
        "  c = a + b"
      ],
      "execution_count": 0,
      "outputs": [
        {
          "output_type": "stream",
          "text": [
            "CPU times: user 1min 34s, sys: 654 ms, total: 1min 35s\n",
            "Wall time: 1min 35s\n"
          ],
          "name": "stdout"
        }
      ]
    },
    {
      "cell_type": "code",
      "metadata": {
        "id": "KbDKo8aO_MmR",
        "colab_type": "code",
        "outputId": "7a4b6710-0897-4de1-a41a-c1d845cb9fbc",
        "colab": {
          "base_uri": "https://localhost:8080/",
          "height": 51
        }
      },
      "source": [
        "%%time\n",
        "for i in range(10):\n",
        "  a = torch.randn(10000,10000)\n",
        "  b = torch.randn(10000,10000)\n",
        "  c = a + b"
      ],
      "execution_count": 0,
      "outputs": [
        {
          "output_type": "stream",
          "text": [
            "CPU times: user 26.2 s, sys: 7.92 ms, total: 26.2 s\n",
            "Wall time: 26.2 s\n"
          ],
          "name": "stdout"
        }
      ]
    },
    {
      "cell_type": "markdown",
      "metadata": {
        "id": "PElOokSB1uBz",
        "colab_type": "text"
      },
      "source": [
        "# CUDA support"
      ]
    },
    {
      "cell_type": "code",
      "metadata": {
        "id": "1IT61oMR1wx-",
        "colab_type": "code",
        "outputId": "41d2cb6e-fd7d-43f3-fd09-7a37c703d9d4",
        "colab": {
          "base_uri": "https://localhost:8080/",
          "height": 34
        }
      },
      "source": [
        "print(torch.cuda.device_count())"
      ],
      "execution_count": 21,
      "outputs": [
        {
          "output_type": "stream",
          "text": [
            "1\n"
          ],
          "name": "stdout"
        }
      ]
    },
    {
      "cell_type": "code",
      "metadata": {
        "id": "i6FciQBQ2auZ",
        "colab_type": "code",
        "outputId": "cd454572-c128-4249-dadc-1eb9d0964211",
        "colab": {
          "base_uri": "https://localhost:8080/",
          "height": 51
        }
      },
      "source": [
        "print(torch.cuda.device(0))\n",
        "print(torch.cuda.get_device_name(0))"
      ],
      "execution_count": 22,
      "outputs": [
        {
          "output_type": "stream",
          "text": [
            "<torch.cuda.device object at 0x7f73439e1fd0>\n",
            "Tesla T4\n"
          ],
          "name": "stdout"
        }
      ]
    },
    {
      "cell_type": "code",
      "metadata": {
        "id": "HIJ-gjxw2jmI",
        "colab_type": "code",
        "colab": {}
      },
      "source": [
        "cuda0 = torch.device('cuda:0')"
      ],
      "execution_count": 0,
      "outputs": []
    },
    {
      "cell_type": "code",
      "metadata": {
        "id": "ytKeKASR3c5w",
        "colab_type": "code",
        "outputId": "9d9a7fed-dbd5-46ec-ecae-4eba5c5900fe",
        "colab": {
          "base_uri": "https://localhost:8080/",
          "height": 68
        }
      },
      "source": [
        "a = torch.ones(3, 2, device=cuda0)\n",
        "b = torch.ones(3, 2, device=cuda0)\n",
        "c = a + b\n",
        "print(c)"
      ],
      "execution_count": 24,
      "outputs": [
        {
          "output_type": "stream",
          "text": [
            "tensor([[2., 2.],\n",
            "        [2., 2.],\n",
            "        [2., 2.]], device='cuda:0')\n"
          ],
          "name": "stdout"
        }
      ]
    },
    {
      "cell_type": "code",
      "metadata": {
        "id": "0KySMQgv3u1h",
        "colab_type": "code",
        "outputId": "20c2e7c2-a5be-4ed4-e135-d573e80d330d",
        "colab": {
          "base_uri": "https://localhost:8080/",
          "height": 51
        }
      },
      "source": [
        "%%time\n",
        "for i in range(10):\n",
        "  a = np.random.randn(10000,10000)\n",
        "  b = np.random.randn(10000,10000)\n",
        "  np.add(b, a)"
      ],
      "execution_count": 0,
      "outputs": [
        {
          "output_type": "stream",
          "text": [
            "CPU times: user 1min 36s, sys: 185 ms, total: 1min 36s\n",
            "Wall time: 1min 36s\n"
          ],
          "name": "stdout"
        }
      ]
    },
    {
      "cell_type": "code",
      "metadata": {
        "id": "1UTpChxI4G94",
        "colab_type": "code",
        "outputId": "28d05a1c-8198-45b9-bec6-c517114dae91",
        "colab": {
          "base_uri": "https://localhost:8080/",
          "height": 51
        }
      },
      "source": [
        "%%time\n",
        "for i in range(10):\n",
        "  a_cpu = torch.randn(10000,10000)\n",
        "  b_cpu = torch.randn(10000,10000)\n",
        "  b_cpu.add_(a_cpu)"
      ],
      "execution_count": 0,
      "outputs": [
        {
          "output_type": "stream",
          "text": [
            "CPU times: user 26.2 s, sys: 13.9 ms, total: 26.2 s\n",
            "Wall time: 26.2 s\n"
          ],
          "name": "stdout"
        }
      ]
    },
    {
      "cell_type": "code",
      "metadata": {
        "id": "DBv6ZAjM4V-J",
        "colab_type": "code",
        "outputId": "30af18ea-3b3c-4d7c-e78c-4ca533391c69",
        "colab": {
          "base_uri": "https://localhost:8080/",
          "height": 51
        }
      },
      "source": [
        "%%time\n",
        "for i in range(10):\n",
        "  a = torch.randn(10000,10000, device=cuda0)\n",
        "  b = torch.randn(10000,10000, device=cuda0)\n",
        "  b.add_(a)"
      ],
      "execution_count": 0,
      "outputs": [
        {
          "output_type": "stream",
          "text": [
            "CPU times: user 1.84 ms, sys: 4.01 ms, total: 5.86 ms\n",
            "Wall time: 12.9 ms\n"
          ],
          "name": "stdout"
        }
      ]
    },
    {
      "cell_type": "code",
      "metadata": {
        "id": "YfErcwND4i50",
        "colab_type": "code",
        "outputId": "046a83ad-74ea-4855-c01b-ebf7e4d93fb6",
        "colab": {
          "base_uri": "https://localhost:8080/",
          "height": 51
        }
      },
      "source": [
        "%%time\n",
        "for i in range(10):\n",
        "  a = np.random.randn(10000,10000)\n",
        "  b = np.random.randn(10000,10000)\n",
        "  np.matmul(b, a)"
      ],
      "execution_count": 0,
      "outputs": [
        {
          "output_type": "stream",
          "text": [
            "CPU times: user 19min 51s, sys: 4.83 s, total: 19min 56s\n",
            "Wall time: 10min 56s\n"
          ],
          "name": "stdout"
        }
      ]
    },
    {
      "cell_type": "code",
      "metadata": {
        "id": "bVbz0JFu5KTT",
        "colab_type": "code",
        "outputId": "960d70c3-249c-4612-a249-ca6ae80ac03e",
        "colab": {
          "base_uri": "https://localhost:8080/",
          "height": 51
        }
      },
      "source": [
        "%%time\n",
        "for i in range(10):\n",
        "  a_cpu = torch.randn(10000,10000)\n",
        "  b_cpu = torch.randn(10000,10000)\n",
        "  b_cpu.matmul(a_cpu)"
      ],
      "execution_count": 0,
      "outputs": [
        {
          "output_type": "stream",
          "text": [
            "CPU times: user 4min 45s, sys: 127 ms, total: 4min 45s\n",
            "Wall time: 4min 45s\n"
          ],
          "name": "stdout"
        }
      ]
    },
    {
      "cell_type": "code",
      "metadata": {
        "id": "PtmD9nX-5MQa",
        "colab_type": "code",
        "outputId": "9cad2799-5328-4feb-c2cc-9bdab9e6be3d",
        "colab": {
          "base_uri": "https://localhost:8080/",
          "height": 51
        }
      },
      "source": [
        "%%time\n",
        "for i in range(10):\n",
        "  a = torch.randn(10000,10000, device=cuda0)\n",
        "  b = torch.randn(10000,10000, device=cuda0)\n",
        "  b.matmul(a)"
      ],
      "execution_count": 0,
      "outputs": [
        {
          "output_type": "stream",
          "text": [
            "CPU times: user 7.31 ms, sys: 6.99 ms, total: 14.3 ms\n",
            "Wall time: 17.5 ms\n"
          ],
          "name": "stdout"
        }
      ]
    },
    {
      "cell_type": "markdown",
      "metadata": {
        "id": "MzS5YFiJ57Ex",
        "colab_type": "text"
      },
      "source": [
        "# Autograd"
      ]
    },
    {
      "cell_type": "code",
      "metadata": {
        "id": "CKGk4N3j5W5h",
        "colab_type": "code",
        "outputId": "62652ac9-091e-461e-ef3b-5fac3487407b",
        "colab": {
          "base_uri": "https://localhost:8080/",
          "height": 68
        }
      },
      "source": [
        "x = torch.ones([3, 2], requires_grad=True)\n",
        "print(x)"
      ],
      "execution_count": 0,
      "outputs": [
        {
          "output_type": "stream",
          "text": [
            "tensor([[1., 1.],\n",
            "        [1., 1.],\n",
            "        [1., 1.]], requires_grad=True)\n"
          ],
          "name": "stdout"
        }
      ]
    },
    {
      "cell_type": "code",
      "metadata": {
        "id": "JlKpHObKAjwE",
        "colab_type": "code",
        "outputId": "4c6a95c5-a262-4a4f-b7d9-3c36a131ff2e",
        "colab": {
          "base_uri": "https://localhost:8080/",
          "height": 68
        }
      },
      "source": [
        "y = x + 5\n",
        "print(y)"
      ],
      "execution_count": 0,
      "outputs": [
        {
          "output_type": "stream",
          "text": [
            "tensor([[6., 6.],\n",
            "        [6., 6.],\n",
            "        [6., 6.]], grad_fn=<AddBackward0>)\n"
          ],
          "name": "stdout"
        }
      ]
    },
    {
      "cell_type": "code",
      "metadata": {
        "id": "JdSP0UYcAo_Z",
        "colab_type": "code",
        "outputId": "1901737d-8e07-4b6a-8b08-18a21e75ceaf",
        "colab": {
          "base_uri": "https://localhost:8080/",
          "height": 68
        }
      },
      "source": [
        "z = y*y + 1\n",
        "print(z)"
      ],
      "execution_count": 0,
      "outputs": [
        {
          "output_type": "stream",
          "text": [
            "tensor([[37., 37.],\n",
            "        [37., 37.],\n",
            "        [37., 37.]], grad_fn=<AddBackward0>)\n"
          ],
          "name": "stdout"
        }
      ]
    },
    {
      "cell_type": "code",
      "metadata": {
        "id": "fSBQdZnmAtje",
        "colab_type": "code",
        "outputId": "1d5c8011-d435-4d40-ba44-d240ad80a86b",
        "colab": {
          "base_uri": "https://localhost:8080/",
          "height": 34
        }
      },
      "source": [
        "t = torch.sum(z)\n",
        "print(t)"
      ],
      "execution_count": 0,
      "outputs": [
        {
          "output_type": "stream",
          "text": [
            "tensor(222., grad_fn=<SumBackward0>)\n"
          ],
          "name": "stdout"
        }
      ]
    },
    {
      "cell_type": "code",
      "metadata": {
        "id": "vWogDGbAAyFj",
        "colab_type": "code",
        "colab": {}
      },
      "source": [
        "t.backward()"
      ],
      "execution_count": 0,
      "outputs": []
    },
    {
      "cell_type": "code",
      "metadata": {
        "id": "5W70LlnAA1Ex",
        "colab_type": "code",
        "outputId": "013aa88c-9383-48e1-8867-93e929b3d37a",
        "colab": {
          "base_uri": "https://localhost:8080/",
          "height": 68
        }
      },
      "source": [
        "print(x.grad)"
      ],
      "execution_count": 0,
      "outputs": [
        {
          "output_type": "stream",
          "text": [
            "tensor([[12., 12.],\n",
            "        [12., 12.],\n",
            "        [12., 12.]])\n"
          ],
          "name": "stdout"
        }
      ]
    },
    {
      "cell_type": "code",
      "metadata": {
        "id": "nhIBP1boBMRr",
        "colab_type": "code",
        "outputId": "9c8d409d-57da-4e93-c5c3-aa91abde120c",
        "colab": {
          "base_uri": "https://localhost:8080/",
          "height": 119
        }
      },
      "source": [
        "x = torch.ones([3, 2], requires_grad=True)\n",
        "y = x + 5\n",
        "r = 1/(1 + torch.exp(-y))\n",
        "print(r)\n",
        "s = torch.sum(r)\n",
        "s.backward()\n",
        "print(x.grad)"
      ],
      "execution_count": 0,
      "outputs": [
        {
          "output_type": "stream",
          "text": [
            "tensor([[0.9975, 0.9975],\n",
            "        [0.9975, 0.9975],\n",
            "        [0.9975, 0.9975]], grad_fn=<MulBackward0>)\n",
            "tensor([[0.0025, 0.0025],\n",
            "        [0.0025, 0.0025],\n",
            "        [0.0025, 0.0025]])\n"
          ],
          "name": "stdout"
        }
      ]
    },
    {
      "cell_type": "code",
      "metadata": {
        "id": "DADoTS0CCtna",
        "colab_type": "code",
        "outputId": "787de3b3-3f9f-4833-8466-f24f5174899f",
        "colab": {
          "base_uri": "https://localhost:8080/",
          "height": 68
        }
      },
      "source": [
        "x = torch.ones([3, 2], requires_grad=True)\n",
        "y = x + 5\n",
        "r = 1/(1 + torch.exp(-y))\n",
        "a = torch.ones([3, 2])\n",
        "r.backward(a)\n",
        "print(x.grad)"
      ],
      "execution_count": 0,
      "outputs": [
        {
          "output_type": "stream",
          "text": [
            "tensor([[0.0025, 0.0025],\n",
            "        [0.0025, 0.0025],\n",
            "        [0.0025, 0.0025]])\n"
          ],
          "name": "stdout"
        }
      ]
    },
    {
      "cell_type": "markdown",
      "metadata": {
        "id": "Gjt1AyQmTLpa",
        "colab_type": "text"
      },
      "source": [
        "# Autograd example that looks like what we have been doing"
      ]
    },
    {
      "cell_type": "code",
      "metadata": {
        "id": "Qrmu88QTTWr1",
        "colab_type": "code",
        "colab": {}
      },
      "source": [
        "x = torch.randn([20, 1], requires_grad=True)\n",
        "y = 3*x - 2"
      ],
      "execution_count": 0,
      "outputs": []
    },
    {
      "cell_type": "code",
      "metadata": {
        "id": "91ge5uUBTqII",
        "colab_type": "code",
        "colab": {}
      },
      "source": [
        "w = torch.tensor([1.], requires_grad=True)\n",
        "b = torch.tensor([1.], requires_grad=True)\n",
        "\n",
        "y_hat = w*x + b\n",
        "\n",
        "loss = torch.sum((y_hat - y)**2)"
      ],
      "execution_count": 0,
      "outputs": []
    },
    {
      "cell_type": "code",
      "metadata": {
        "id": "K19m8XPxUUDN",
        "colab_type": "code",
        "colab": {
          "base_uri": "https://localhost:8080/",
          "height": 34
        },
        "outputId": "94a63725-73b2-4662-b719-19e06995733b"
      },
      "source": [
        "print(loss)"
      ],
      "execution_count": 4,
      "outputs": [
        {
          "output_type": "stream",
          "text": [
            "tensor(272.0872, grad_fn=<SumBackward0>)\n"
          ],
          "name": "stdout"
        }
      ]
    },
    {
      "cell_type": "code",
      "metadata": {
        "id": "7T0FaaY3U6mV",
        "colab_type": "code",
        "colab": {}
      },
      "source": [
        "loss.backward()"
      ],
      "execution_count": 0,
      "outputs": []
    },
    {
      "cell_type": "code",
      "metadata": {
        "id": "6fhE8zmeU9fu",
        "colab_type": "code",
        "colab": {
          "base_uri": "https://localhost:8080/",
          "height": 34
        },
        "outputId": "bbcaa962-d542-4680-c7f3-0013a7e833b8"
      },
      "source": [
        "print(w.grad, b.grad)"
      ],
      "execution_count": 6,
      "outputs": [
        {
          "output_type": "stream",
          "text": [
            "tensor([-76.6144]) tensor([130.3153])\n"
          ],
          "name": "stdout"
        }
      ]
    },
    {
      "cell_type": "markdown",
      "metadata": {
        "id": "MBh9JA81VOWz",
        "colab_type": "text"
      },
      "source": [
        "when we increase w then loss decrease and when we decrease b then loss increase"
      ]
    },
    {
      "cell_type": "markdown",
      "metadata": {
        "id": "wd6V3QphWTxW",
        "colab_type": "text"
      },
      "source": [
        "If w.grad returns a positive number, what does that say about the value of w\n",
        "\n",
        "ANS- The selected w is higher than the optimal value"
      ]
    },
    {
      "cell_type": "markdown",
      "metadata": {
        "id": "8CfyOoxuVmH8",
        "colab_type": "text"
      },
      "source": [
        "# Do it in a loop"
      ]
    },
    {
      "cell_type": "code",
      "metadata": {
        "id": "01WIa2EdVAcT",
        "colab_type": "code",
        "colab": {
          "base_uri": "https://localhost:8080/",
          "height": 204
        },
        "outputId": "28852c8f-84b7-4045-c8b1-96062e432e85"
      },
      "source": [
        "learning_rate = 0.01\n",
        "\n",
        "w = torch.tensor([1.], requires_grad=True)\n",
        "b = torch.tensor([1.], requires_grad=True)\n",
        "\n",
        "print(w.item(), b.item())\n",
        "\n",
        "for  i in range(10):\n",
        "\n",
        "  x = torch.randn([20, 1]) #forward propagation\n",
        "  y = 3*x - 2\n",
        "\n",
        "  y_hat = w*x + b \n",
        "  loss = torch.sum((y_hat - y)**2) # loss- squared error\n",
        "\n",
        "  loss.backward()                #backward propagation\n",
        "\n",
        "  with torch.no_grad():      \n",
        "    w -= learning_rate * w.grad  #updating parameters\n",
        "    b -= learning_rate * b.grad\n",
        "\n",
        "    w.grad.zero_()\n",
        "    b.grad.zero_()\n",
        "\n",
        "  print(w.item(), b.item())"
      ],
      "execution_count": 7,
      "outputs": [
        {
          "output_type": "stream",
          "text": [
            "1.0 1.0\n",
            "1.8852834701538086 -0.3429412841796875\n",
            "2.3043291568756104 -1.0878775119781494\n",
            "2.766594409942627 -1.5056363344192505\n",
            "2.8524563312530518 -1.6897825002670288\n",
            "2.865809202194214 -1.7924087047576904\n",
            "2.911557674407959 -1.8694320917129517\n",
            "2.9465408325195312 -1.9208853244781494\n",
            "2.964899778366089 -1.9482589960098267\n",
            "2.9876933097839355 -1.9739067554473877\n",
            "2.9924943447113037 -1.9851192235946655\n"
          ],
          "name": "stdout"
        }
      ]
    },
    {
      "cell_type": "markdown",
      "metadata": {
        "id": "Lu-SBVCNaEZU",
        "colab_type": "text"
      },
      "source": [
        "# Do it for a large problem"
      ]
    },
    {
      "cell_type": "code",
      "metadata": {
        "id": "jMSxV1lcZm4e",
        "colab_type": "code",
        "colab": {
          "base_uri": "https://localhost:8080/",
          "height": 51
        },
        "outputId": "1c2e72de-bae3-441a-8598-79260fccf25f"
      },
      "source": [
        "%%time\n",
        "learning_rate = 0.001\n",
        "N = 1000000\n",
        "epochs = 2000\n",
        "\n",
        "w = torch.rand([N], requires_grad=True)\n",
        "b = torch.ones([1], requires_grad=True)\n",
        "\n",
        "#print(torch.mean(w).item(), b.item())\n",
        "\n",
        "for  i in range(epochs):\n",
        "\n",
        "  x = torch.randn([N])                   #forward propagation\n",
        "  y = torch.dot(3*torch.ones([N]), x) - 2\n",
        "\n",
        "  y_hat = torch.dot(w, x) + b \n",
        "  loss = torch.sum((y_hat - y)**2) # loss- squared error\n",
        "\n",
        "  loss.backward()                #backward propagation\n",
        "\n",
        "  with torch.no_grad():      \n",
        "    w -= learning_rate * w.grad  #updating parameters\n",
        "    b -= learning_rate * b.grad\n",
        "\n",
        "    w.grad.zero_()\n",
        "    b.grad.zero_()\n",
        "\n",
        "  #print(torch.mean(w).item(), b.item())"
      ],
      "execution_count": 26,
      "outputs": [
        {
          "output_type": "stream",
          "text": [
            "CPU times: user 27.5 s, sys: 1.01 s, total: 28.5 s\n",
            "Wall time: 28.6 s\n"
          ],
          "name": "stdout"
        }
      ]
    },
    {
      "cell_type": "code",
      "metadata": {
        "id": "s0u3dz_Ka9P_",
        "colab_type": "code",
        "colab": {
          "base_uri": "https://localhost:8080/",
          "height": 51
        },
        "outputId": "d16f04be-b5bb-4d02-a18b-e4b3bbbac6bf"
      },
      "source": [
        "%%time\n",
        "learning_rate = 0.001\n",
        "N = 1000000\n",
        "epochs = 2000\n",
        "\n",
        "w = torch.rand([N], requires_grad=True, device=cuda0)\n",
        "b = torch.ones([1], requires_grad=True, device=cuda0)\n",
        "\n",
        "#print(torch.mean(w).item(), b.item())\n",
        "\n",
        "for  i in range(epochs):\n",
        "\n",
        "  x = torch.randn([N], device=cuda0)            #forward propagation\n",
        "  y = torch.dot(3*torch.ones([N], device=cuda0), x) - 2\n",
        "\n",
        "  y_hat = torch.dot(w, x) + b \n",
        "  loss = torch.sum((y_hat - y)**2) # loss- squared error\n",
        "\n",
        "  loss.backward()                #backward propagation\n",
        "\n",
        "  with torch.no_grad():      \n",
        "    w -= learning_rate * w.grad  #updating parameters\n",
        "    b -= learning_rate * b.grad\n",
        "\n",
        "    w.grad.zero_()\n",
        "    b.grad.zero_()\n",
        "\n",
        "  #print(torch.mean(w).item(), b.item())"
      ],
      "execution_count": 28,
      "outputs": [
        {
          "output_type": "stream",
          "text": [
            "CPU times: user 1.32 s, sys: 202 ms, total: 1.52 s\n",
            "Wall time: 1.53 s\n"
          ],
          "name": "stdout"
        }
      ]
    },
    {
      "cell_type": "code",
      "metadata": {
        "id": "F9_mvn3Bd7MW",
        "colab_type": "code",
        "colab": {}
      },
      "source": [
        " "
      ],
      "execution_count": 0,
      "outputs": []
    }
  ]
}